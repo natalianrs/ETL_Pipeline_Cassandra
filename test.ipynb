{
 "cells": [
  {
   "cell_type": "code",
   "execution_count": 1,
   "metadata": {
    "editable": true
   },
   "outputs": [],
   "source": [
    "from cassandra.cluster import Cluster\n",
    "from cql_statements import *\n",
    "\n",
    "#cassandra cluster \n",
    "#session to establish connection and begin executing queries\n",
    "try:\n",
    "    cluster = Cluster(['127.0.0.1'])\n",
    "    session = cluster.connect()  \n",
    "except Exception as e:\n",
    "    print(e)\n",
    "         \n",
    "#set keyspace\n",
    "try:\n",
    "    keyspace = session.set_keyspace('udacity')\n",
    "except Exception as e:\n",
    "    print(e)\n",
    "    "
   ]
  },
  {
   "cell_type": "markdown",
   "metadata": {
    "editable": true
   },
   "source": [
    "# Validating inserted data "
   ]
  },
  {
   "cell_type": "code",
   "execution_count": 2,
   "metadata": {
    "editable": true
   },
   "outputs": [
    {
     "name": "stdout",
     "output_type": "stream",
     "text": [
      "\n",
      "Printing 3 first rows from Music_history table:  \n",
      "Regina Spektor The Calculation (Album Version) 191.08526611328125\n",
      "Octopus Project All Of The Champs That Ever Lived 250.95791625976562\n",
      "Tegan And Sara So Jealous 180.06158447265625\n"
     ]
    }
   ],
   "source": [
    "rows = session.execute(\"\"\"SELECT * FROM music_history LIMIT 3\"\"\")\n",
    "print(\"\")\n",
    "print('Printing 3 first rows from Music_history table:  ')\n",
    "for row in rows:\n",
    "    print(row.artist, row.song, row.length)"
   ]
  },
  {
   "cell_type": "code",
   "execution_count": 3,
   "metadata": {
    "editable": true
   },
   "outputs": [
    {
     "name": "stdout",
     "output_type": "stream",
     "text": [
      "\n",
      "Printing 3 first rows from user_songs table:  \n",
      "0 System of a Down Sad Statue Emily Benson\n",
      "1 Ghostland Observatory Stranger Lover Emily Benson\n",
      "2 Evergreen Terrace Zero Emily Benson\n"
     ]
    }
   ],
   "source": [
    "rows = session.execute(\"\"\"SELECT * FROM user_songs LIMIT 3\"\"\")\n",
    "print(\"\")\n",
    "print('Printing 3 first rows from user_songs table:  ')\n",
    "for row in rows:\n",
    "    print(row.iteminsession, row.artist, row.song, row.firstname, row.lastname)"
   ]
  },
  {
   "cell_type": "code",
   "execution_count": 4,
   "metadata": {
    "editable": true
   },
   "outputs": [
    {
     "name": "stdout",
     "output_type": "stream",
     "text": [
      "\n",
      "Printing 3 first rows from history_song table: \n",
      "Chloe Cuevas\n",
      "Chloe Cuevas\n",
      "Aleena Kirby\n"
     ]
    }
   ],
   "source": [
    "rows = session.execute(\"\"\"SELECT * FROM history_song LIMIT 3\"\"\")\n",
    "print(\"\") \n",
    "print('Printing 3 first rows from history_song table: ')\n",
    "for row in rows:\n",
    "    print(row.firstname, row.lastname)"
   ]
  },
  {
   "cell_type": "markdown",
   "metadata": {
    "editable": true
   },
   "source": [
    "# Querying "
   ]
  },
  {
   "cell_type": "markdown",
   "metadata": {
    "editable": true
   },
   "source": [
    "## Query 1.\n",
    "#### Give me the artist, song title and song's length in the music app history that was heard during  sessionId = 338, and itemInSession  = 4\n",
    "`SELECT artist, song, length FROM music_app_history WHERE sessionId=338 AND itemInSession=4`\n",
    "\n",
    "#### Data Modeling \n",
    "`Table Name: music_history\n",
    "column 1: sessionID\n",
    "column 2: itemInSession\n",
    "column 3: artist\n",
    "column 4: song\n",
    "column 5: length\n",
    "PRIMARY KEY(sessionId, itemInSession)`\n"
   ]
  },
  {
   "cell_type": "code",
   "execution_count": 5,
   "metadata": {
    "editable": true
   },
   "outputs": [
    {
     "name": "stdout",
     "output_type": "stream",
     "text": [
      "Faithless Music Matters (Mark Knight Dub) 495.30731201171875\n"
     ]
    }
   ],
   "source": [
    "rows = session.execute(\"\"\"SELECT artist, \n",
    "                            song, \n",
    "                            length \n",
    "                            FROM music_history \n",
    "                            WHERE sessionId = 338 \n",
    "                            AND itemInSession = 4 \"\"\")\n",
    "\n",
    "for row in rows:\n",
    "    print(row.artist, row.song, row.length)"
   ]
  },
  {
   "cell_type": "markdown",
   "metadata": {
    "editable": true
   },
   "source": [
    "## Query 2.\n",
    "#### Give me only the following: name of artist, song (sorted by itemInSession) and user (first and last name) for userid = 10, sessionid = 182\n",
    "`SELECT artist, song, length FROM music_app_history WHERE sessionId=338 AND itemInSession=4`\n",
    "\n",
    "#### Data Modeling \n",
    "`Table Name: user_songs\n",
    "column 1: userId\n",
    "column 2: sessionId\n",
    "column 3: artist\n",
    "column 4: song\n",
    "column 5: firstName\n",
    "column 6:lastName\n",
    "column 7: itemInSession\n",
    "PRIMARY KEY(userId, sessionId), itemInSession)`"
   ]
  },
  {
   "cell_type": "code",
   "execution_count": 6,
   "metadata": {
    "editable": true
   },
   "outputs": [
    {
     "name": "stdout",
     "output_type": "stream",
     "text": [
      "0 Down To The Bone Keep On Keepin' On Sylvie Cruz\n",
      "1 Three Drives Greece 2000 Sylvie Cruz\n",
      "2 Sebastien Tellier Kilometer Sylvie Cruz\n",
      "3 Lonnie Gordon Catch You Baby (Steve Pitron & Max Sanna Radio Edit) Sylvie Cruz\n"
     ]
    }
   ],
   "source": [
    "rows = session.execute(\"\"\"SELECT itemInSession, artist, song, firstName, lastName FROM user_songs WHERE userId = 10 AND sessionId = 182\"\"\")\n",
    "\n",
    "for row in rows:\n",
    "    print(row.iteminsession, row.artist, row.song, row.firstname, row.lastname)"
   ]
  },
  {
   "cell_type": "markdown",
   "metadata": {
    "editable": true
   },
   "source": [
    "## Query 3.\n",
    "### Give me every user name (first and last) in my music app history who listened to the song 'All Hands Against His Own'\n",
    "` SELECT firstName, lastName FROM history WHERE song='All Hands Against His Own' `\n",
    "\n",
    "#### Data Modeling \n",
    "`Table Name: history_song\n",
    "column 1: song\n",
    "column 2: user first name\n",
    "column 3: user last name\n",
    "column 4: userId\n",
    "PRIMARY key (song, userId) `"
   ]
  },
  {
   "cell_type": "code",
   "execution_count": 7,
   "metadata": {
    "editable": true
   },
   "outputs": [
    {
     "name": "stdout",
     "output_type": "stream",
     "text": [
      "Jacqueline Lynch\n",
      "Tegan Levine\n",
      "Sara Johnson\n"
     ]
    }
   ],
   "source": [
    "rows = session.execute(\"\"\"SELECT firstName, lastName FROM history_song WHERE song = 'All Hands Against His Own'\"\"\")\n",
    "\n",
    "for row in rows:\n",
    "    print(row.firstname, row.lastname)"
   ]
  },
  {
   "cell_type": "markdown",
   "metadata": {
    "editable": true
   },
   "source": [
    "### Drop the tables before closing out the sessions"
   ]
  },
  {
   "cell_type": "code",
   "execution_count": 8,
   "metadata": {
    "editable": true
   },
   "outputs": [
    {
     "data": {
      "text/plain": [
       "<cassandra.cluster.ResultSet at 0x7f7430e3ff60>"
      ]
     },
     "execution_count": 8,
     "metadata": {},
     "output_type": "execute_result"
    }
   ],
   "source": [
    "# droping tables if needed\n",
    "session.execute(music_history_drop)\n",
    "session.execute(user_songs_drop)\n",
    "session.execute(history_song_drop)"
   ]
  },
  {
   "cell_type": "markdown",
   "metadata": {
    "editable": true
   },
   "source": [
    "### Close the session and cluster connection"
   ]
  },
  {
   "cell_type": "code",
   "execution_count": 9,
   "metadata": {
    "editable": true
   },
   "outputs": [],
   "source": [
    "# closing session id needed\n",
    "session.shutdown()\n",
    "cluster.shutdown()"
   ]
  },
  {
   "cell_type": "code",
   "execution_count": null,
   "metadata": {
    "editable": true
   },
   "outputs": [],
   "source": []
  }
 ],
 "metadata": {
  "kernelspec": {
   "display_name": "Python 3",
   "language": "python",
   "name": "python3"
  },
  "language_info": {
   "codemirror_mode": {
    "name": "ipython",
    "version": 3
   },
   "file_extension": ".py",
   "mimetype": "text/x-python",
   "name": "python",
   "nbconvert_exporter": "python",
   "pygments_lexer": "ipython3",
   "version": "3.6.3"
  }
 },
 "nbformat": 4,
 "nbformat_minor": 4
}
